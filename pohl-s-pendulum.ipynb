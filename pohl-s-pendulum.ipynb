{
 "cells": [
  {
   "cell_type": "code",
   "execution_count": 1,
   "id": "1834c6c4",
   "metadata": {
    "execution": {
     "iopub.execute_input": "2022-08-29T13:23:00.814138Z",
     "iopub.status.busy": "2022-08-29T13:23:00.813669Z",
     "iopub.status.idle": "2022-08-29T13:23:00.827304Z",
     "shell.execute_reply": "2022-08-29T13:23:00.826021Z"
    },
    "papermill": {
     "duration": 0.026197,
     "end_time": "2022-08-29T13:23:00.830272",
     "exception": false,
     "start_time": "2022-08-29T13:23:00.804075",
     "status": "completed"
    },
    "tags": []
   },
   "outputs": [],
   "source": [
    "import numpy as np\n",
    "import matplotlib.pyplot as plt"
   ]
  },
  {
   "cell_type": "code",
   "execution_count": 2,
   "id": "c5067dc1",
   "metadata": {
    "execution": {
     "iopub.execute_input": "2022-08-29T13:23:00.842320Z",
     "iopub.status.busy": "2022-08-29T13:23:00.841847Z",
     "iopub.status.idle": "2022-08-29T13:23:00.855659Z",
     "shell.execute_reply": "2022-08-29T13:23:00.854363Z"
    },
    "papermill": {
     "duration": 0.023537,
     "end_time": "2022-08-29T13:23:00.859267",
     "exception": false,
     "start_time": "2022-08-29T13:23:00.835730",
     "status": "completed"
    },
    "tags": []
   },
   "outputs": [
    {
     "data": {
      "text/plain": [
       "array([2.94443898, 2.92316158, 2.89037176, 2.8678989 , 2.84490938,\n",
       "       2.82137889, 2.79728133, 2.76000994, 2.73436751, 2.7080502 ,\n",
       "       2.68102153, 2.63905733, 2.61006979, 2.58021683, 2.54944517,\n",
       "       2.50143595, 2.46809953, 2.41591378, 2.37954613, 2.34180581])"
      ]
     },
     "execution_count": 2,
     "metadata": {},
     "output_type": "execute_result"
    }
   ],
   "source": [
    "# Plot 1 \n",
    "x1 = [19,18.6,18.0,17.6,17.2,16.8,16.4,15.8,15.4,15.0,14.6,14.0,13.6,13.2,12.8,12.2,11.8,11.2,10.8,10.4]\n",
    "x1 = np.log(x1)\n",
    "x1"
   ]
  },
  {
   "cell_type": "code",
   "execution_count": 3,
   "id": "61312721",
   "metadata": {
    "execution": {
     "iopub.execute_input": "2022-08-29T13:23:00.871323Z",
     "iopub.status.busy": "2022-08-29T13:23:00.870851Z",
     "iopub.status.idle": "2022-08-29T13:23:00.877872Z",
     "shell.execute_reply": "2022-08-29T13:23:00.875708Z"
    },
    "papermill": {
     "duration": 0.016965,
     "end_time": "2022-08-29T13:23:00.881312",
     "exception": false,
     "start_time": "2022-08-29T13:23:00.864347",
     "status": "completed"
    },
    "tags": []
   },
   "outputs": [],
   "source": [
    "n = np.array([1,2,3,4,5,6,7,8,9,10,11,12,13,14,15,16,17,18,19,20])"
   ]
  },
  {
   "cell_type": "code",
   "execution_count": 4,
   "id": "84ff349d",
   "metadata": {
    "execution": {
     "iopub.execute_input": "2022-08-29T13:23:00.896055Z",
     "iopub.status.busy": "2022-08-29T13:23:00.894734Z",
     "iopub.status.idle": "2022-08-29T13:23:00.905180Z",
     "shell.execute_reply": "2022-08-29T13:23:00.903453Z"
    },
    "papermill": {
     "duration": 0.022154,
     "end_time": "2022-08-29T13:23:00.908257",
     "exception": false,
     "start_time": "2022-08-29T13:23:00.886103",
     "status": "completed"
    },
    "tags": []
   },
   "outputs": [
    {
     "data": {
      "text/plain": [
       "array([ 2.0005,  4.001 ,  6.0015,  8.002 , 10.0025, 12.003 , 14.0035,\n",
       "       16.004 , 18.0045, 20.005 , 22.0055, 24.006 , 26.0065, 28.007 ,\n",
       "       30.0075, 32.008 , 34.0085, 36.009 , 38.0095, 40.01  ])"
      ]
     },
     "execution_count": 4,
     "metadata": {},
     "output_type": "execute_result"
    }
   ],
   "source": [
    "y1 = 2.0005 * n\n",
    "y1"
   ]
  },
  {
   "cell_type": "code",
   "execution_count": 5,
   "id": "1685773a",
   "metadata": {
    "execution": {
     "iopub.execute_input": "2022-08-29T13:23:00.922296Z",
     "iopub.status.busy": "2022-08-29T13:23:00.921292Z",
     "iopub.status.idle": "2022-08-29T13:23:01.423825Z",
     "shell.execute_reply": "2022-08-29T13:23:01.422519Z"
    },
    "papermill": {
     "duration": 0.512889,
     "end_time": "2022-08-29T13:23:01.426521",
     "exception": false,
     "start_time": "2022-08-29T13:23:00.913632",
     "status": "completed"
    },
    "tags": []
   },
   "outputs": [
    {
     "data": {
      "text/plain": [
       "Text(0, 0.5, '$\\\\ln(\\\\phi$)')"
      ]
     },
     "execution_count": 5,
     "metadata": {},
     "output_type": "execute_result"
    },
    {
     "data": {
      "image/png": "[encoded data removed]",
      "text/plain": [
       "<Figure size 432x288 with 1 Axes>"
      ]
     },
     "metadata": {
      "needs_background": "light"
     },
     "output_type": "display_data"
    }
   ],
   "source": [
    "plt.scatter(x1,y1,marker='+',color='r')\n",
    "plt.title('$0V$')\n",
    "plt.xlabel('Time Period')\n",
    "plt.ylabel('$\\ln(\\phi$)')"
   ]
  },
  {
   "cell_type": "code",
   "execution_count": 6,
   "id": "b07b3088",
   "metadata": {
    "execution": {
     "iopub.execute_input": "2022-08-29T13:23:01.438850Z",
     "iopub.status.busy": "2022-08-29T13:23:01.438136Z",
     "iopub.status.idle": "2022-08-29T13:23:01.446664Z",
     "shell.execute_reply": "2022-08-29T13:23:01.445719Z"
    },
    "papermill": {
     "duration": 0.017535,
     "end_time": "2022-08-29T13:23:01.449144",
     "exception": false,
     "start_time": "2022-08-29T13:23:01.431609",
     "status": "completed"
    },
    "tags": []
   },
   "outputs": [
    {
     "data": {
      "text/plain": [
       "array([2.94443898, 2.92316158, 2.90142159, 2.8678989 , 2.83321334,\n",
       "       2.8094027 , 2.77258872, 2.73436751, 2.7080502 , 2.68102153,\n",
       "       2.63905733, 2.61006979, 2.58021683, 2.53369681, 2.50143595,\n",
       "       2.46809953, 2.43361336, 2.37954613, 2.34180581, 2.32238772])"
      ]
     },
     "execution_count": 6,
     "metadata": {},
     "output_type": "execute_result"
    }
   ],
   "source": [
    "# Plot 2 \n",
    "x2 = [19,18.6,18.2,17.6,17.0,16.6,16.0,15.4,15.0,14.6,14.0,13.6,13.2,12.6,12.2,11.8,11.4,10.8,10.4,10.2]\n",
    "x2 = np.log(x2)\n",
    "x2"
   ]
  },
  {
   "cell_type": "code",
   "execution_count": 7,
   "id": "38d35e4a",
   "metadata": {
    "execution": {
     "iopub.execute_input": "2022-08-29T13:23:01.461990Z",
     "iopub.status.busy": "2022-08-29T13:23:01.461055Z",
     "iopub.status.idle": "2022-08-29T13:23:01.468734Z",
     "shell.execute_reply": "2022-08-29T13:23:01.467606Z"
    },
    "papermill": {
     "duration": 0.016756,
     "end_time": "2022-08-29T13:23:01.471267",
     "exception": false,
     "start_time": "2022-08-29T13:23:01.454511",
     "status": "completed"
    },
    "tags": []
   },
   "outputs": [
    {
     "data": {
      "text/plain": [
       "array([ 1.981,  3.962,  5.943,  7.924,  9.905, 11.886, 13.867, 15.848,\n",
       "       17.829, 19.81 , 21.791, 23.772, 25.753, 27.734, 29.715, 31.696,\n",
       "       33.677, 35.658, 37.639, 39.62 ])"
      ]
     },
     "execution_count": 7,
     "metadata": {},
     "output_type": "execute_result"
    }
   ],
   "source": [
    "y2 = 1.9810 * n\n",
    "y2"
   ]
  },
  {
   "cell_type": "code",
   "execution_count": 8,
   "id": "0a193ee2",
   "metadata": {
    "execution": {
     "iopub.execute_input": "2022-08-29T13:23:01.484991Z",
     "iopub.status.busy": "2022-08-29T13:23:01.484563Z",
     "iopub.status.idle": "2022-08-29T13:23:01.740620Z",
     "shell.execute_reply": "2022-08-29T13:23:01.739387Z"
    },
    "papermill": {
     "duration": 0.266345,
     "end_time": "2022-08-29T13:23:01.743319",
     "exception": false,
     "start_time": "2022-08-29T13:23:01.476974",
     "status": "completed"
    },
    "tags": []
   },
   "outputs": [
    {
     "data": {
      "text/plain": [
       "Text(0, 0.5, '$\\\\ln(\\\\phi$)')"
      ]
     },
     "execution_count": 8,
     "metadata": {},
     "output_type": "execute_result"
    },
    {
     "data": {
      "image/png": "[encoded data removed]",
      "text/plain": [
       "<Figure size 432x288 with 1 Axes>"
      ]
     },
     "metadata": {
      "needs_background": "light"
     },
     "output_type": "display_data"
    }
   ],
   "source": [
    "plt.scatter(x2,y2,marker='+',color='r')\n",
    "plt.title('$0.55V$')\n",
    "plt.xlabel('Time Period')\n",
    "plt.ylabel('$\\ln(\\phi$)')"
   ]
  },
  {
   "cell_type": "code",
   "execution_count": 9,
   "id": "b86c2307",
   "metadata": {
    "execution": {
     "iopub.execute_input": "2022-08-29T13:23:01.757575Z",
     "iopub.status.busy": "2022-08-29T13:23:01.757110Z",
     "iopub.status.idle": "2022-08-29T13:23:01.765069Z",
     "shell.execute_reply": "2022-08-29T13:23:01.764298Z"
    },
    "papermill": {
     "duration": 0.018461,
     "end_time": "2022-08-29T13:23:01.767769",
     "exception": false,
     "start_time": "2022-08-29T13:23:01.749308",
     "status": "completed"
    },
    "tags": []
   },
   "outputs": [
    {
     "data": {
      "text/plain": [
       "array([2.94443898, 2.92316158, 2.89037176, 2.85647021, 2.82137889,\n",
       "       2.78501124, 2.74727091, 2.69462718, 2.66722821, 2.62466859,\n",
       "       2.58021683, 2.53369681, 2.48490665, 2.4510051 , 2.41591378,\n",
       "       2.37954613, 2.34180581, 2.30258509, 2.24070969, 2.17475172])"
      ]
     },
     "execution_count": 9,
     "metadata": {},
     "output_type": "execute_result"
    }
   ],
   "source": [
    "# Plot 3\n",
    "x3 = [19,18.6,18.0,17.4,16.8,16.2,15.6,14.8,14.4,13.8,13.2,12.6,12.0,11.6,11.2,10.8,10.4,10.0,9.4,8.8]\n",
    "x3 = np.log(x3)\n",
    "x3"
   ]
  },
  {
   "cell_type": "code",
   "execution_count": 10,
   "id": "1a14ca13",
   "metadata": {
    "execution": {
     "iopub.execute_input": "2022-08-29T13:23:01.782093Z",
     "iopub.status.busy": "2022-08-29T13:23:01.781477Z",
     "iopub.status.idle": "2022-08-29T13:23:01.788164Z",
     "shell.execute_reply": "2022-08-29T13:23:01.787260Z"
    },
    "papermill": {
     "duration": 0.016752,
     "end_time": "2022-08-29T13:23:01.790770",
     "exception": false,
     "start_time": "2022-08-29T13:23:01.774018",
     "status": "completed"
    },
    "tags": []
   },
   "outputs": [
    {
     "data": {
      "text/plain": [
       "array([ 1.9505,  3.901 ,  5.8515,  7.802 ,  9.7525, 11.703 , 13.6535,\n",
       "       15.604 , 17.5545, 19.505 , 21.4555, 23.406 , 25.3565, 27.307 ,\n",
       "       29.2575, 31.208 , 33.1585, 35.109 , 37.0595, 39.01  ])"
      ]
     },
     "execution_count": 10,
     "metadata": {},
     "output_type": "execute_result"
    }
   ],
   "source": [
    "y3 = 1.9505 * n\n",
    "y3"
   ]
  },
  {
   "cell_type": "code",
   "execution_count": 11,
   "id": "8ac9d18d",
   "metadata": {
    "execution": {
     "iopub.execute_input": "2022-08-29T13:23:01.805413Z",
     "iopub.status.busy": "2022-08-29T13:23:01.804570Z",
     "iopub.status.idle": "2022-08-29T13:23:02.077213Z",
     "shell.execute_reply": "2022-08-29T13:23:02.075966Z"
    },
    "papermill": {
     "duration": 0.283242,
     "end_time": "2022-08-29T13:23:02.079986",
     "exception": false,
     "start_time": "2022-08-29T13:23:01.796744",
     "status": "completed"
    },
    "tags": []
   },
   "outputs": [
    {
     "data": {
      "text/plain": [
       "Text(0, 0.5, '$\\\\ln(\\\\phi$)')"
      ]
     },
     "execution_count": 11,
     "metadata": {},
     "output_type": "execute_result"
    },
    {
     "data": {
      "image/png": "[encoded data removed]",
      "text/plain": [
       "<Figure size 432x288 with 1 Axes>"
      ]
     },
     "metadata": {
      "needs_background": "light"
     },
     "output_type": "display_data"
    }
   ],
   "source": [
    "plt.scatter(x3,y3,marker='+',color='r')\n",
    "plt.title('$0.75V$')\n",
    "plt.xlabel('Time Period')\n",
    "plt.ylabel('$\\ln(\\phi$)')"
   ]
  },
  {
   "cell_type": "code",
   "execution_count": 12,
   "id": "698c0622",
   "metadata": {
    "execution": {
     "iopub.execute_input": "2022-08-29T13:23:02.094584Z",
     "iopub.status.busy": "2022-08-29T13:23:02.094132Z",
     "iopub.status.idle": "2022-08-29T13:23:02.102900Z",
     "shell.execute_reply": "2022-08-29T13:23:02.101692Z"
    },
    "papermill": {
     "duration": 0.018842,
     "end_time": "2022-08-29T13:23:02.105461",
     "exception": false,
     "start_time": "2022-08-29T13:23:02.086619",
     "status": "completed"
    },
    "tags": []
   },
   "outputs": [
    {
     "data": {
      "text/plain": [
       "array([2.94443898, 2.92316158, 2.87919846, 2.82137889, 2.77258872,\n",
       "       2.73436751, 2.68102153, 2.62466859, 2.58021683, 2.54944517,\n",
       "       2.48490665, 2.43361336, 2.37954613, 2.32238772, 2.28238239,\n",
       "       2.21920348, 2.17475172, 2.12823171, 2.05412373, 2.02814825])"
      ]
     },
     "execution_count": 12,
     "metadata": {},
     "output_type": "execute_result"
    }
   ],
   "source": [
    "# Plot 4 \n",
    "x4 = [19,18.6,17.8,16.8,16,15.4,14.6,13.8,13.2,12.8,12.0,11.4,10.8,10.2,9.8,9.2,8.8,8.4,7.8,7.6]\n",
    "x4 = np.log(x4)\n",
    "x4"
   ]
  },
  {
   "cell_type": "code",
   "execution_count": 13,
   "id": "184f051b",
   "metadata": {
    "execution": {
     "iopub.execute_input": "2022-08-29T13:23:02.120512Z",
     "iopub.status.busy": "2022-08-29T13:23:02.120112Z",
     "iopub.status.idle": "2022-08-29T13:23:02.127389Z",
     "shell.execute_reply": "2022-08-29T13:23:02.126441Z"
    },
    "papermill": {
     "duration": 0.017797,
     "end_time": "2022-08-29T13:23:02.129973",
     "exception": false,
     "start_time": "2022-08-29T13:23:02.112176",
     "status": "completed"
    },
    "tags": []
   },
   "outputs": [
    {
     "data": {
      "text/plain": [
       "array([ 1.9415,  3.883 ,  5.8245,  7.766 ,  9.7075, 11.649 , 13.5905,\n",
       "       15.532 , 17.4735, 19.415 , 21.3565, 23.298 , 25.2395, 27.181 ,\n",
       "       29.1225, 31.064 , 33.0055, 34.947 , 36.8885, 38.83  ])"
      ]
     },
     "execution_count": 13,
     "metadata": {},
     "output_type": "execute_result"
    }
   ],
   "source": [
    "y4 = 1.9415 * n\n",
    "y4"
   ]
  },
  {
   "cell_type": "code",
   "execution_count": 14,
   "id": "bb39731c",
   "metadata": {
    "execution": {
     "iopub.execute_input": "2022-08-29T13:23:02.144993Z",
     "iopub.status.busy": "2022-08-29T13:23:02.144278Z",
     "iopub.status.idle": "2022-08-29T13:23:02.390385Z",
     "shell.execute_reply": "2022-08-29T13:23:02.388844Z"
    },
    "papermill": {
     "duration": 0.256835,
     "end_time": "2022-08-29T13:23:02.393264",
     "exception": false,
     "start_time": "2022-08-29T13:23:02.136429",
     "status": "completed"
    },
    "tags": []
   },
   "outputs": [
    {
     "data": {
      "text/plain": [
       "Text(0, 0.5, '$\\\\ln(\\\\phi$)')"
      ]
     },
     "execution_count": 14,
     "metadata": {},
     "output_type": "execute_result"
    },
    {
     "data": {
      "image/png": "[encoded data removed]",
      "text/plain": [
       "<Figure size 432x288 with 1 Axes>"
      ]
     },
     "metadata": {
      "needs_background": "light"
     },
     "output_type": "display_data"
    }
   ],
   "source": [
    "plt.scatter(x4,y4,marker='+',color='r')\n",
    "plt.title('$1.05V$')\n",
    "plt.xlabel('Time Period')\n",
    "plt.ylabel('$\\ln(\\phi$)')"
   ]
  },
  {
   "cell_type": "code",
   "execution_count": null,
   "id": "13ff90d9",
   "metadata": {
    "papermill": {
     "duration": 0.006149,
     "end_time": "2022-08-29T13:23:02.406096",
     "exception": false,
     "start_time": "2022-08-29T13:23:02.399947",
     "status": "completed"
    },
    "tags": []
   },
   "outputs": [],
   "source": []
  }
 ],
 "metadata": {
  "kernelspec": {
   "display_name": "Python 3",
   "language": "python",
   "name": "python3"
  },
  "language_info": {
   "codemirror_mode": {
    "name": "ipython",
    "version": 3
   },
   "file_extension": ".py",
   "mimetype": "text/x-python",
   "name": "python",
   "nbconvert_exporter": "python",
   "pygments_lexer": "ipython3",
   "version": "3.7.12"
  },
  "papermill": {
   "default_parameters": {},
   "duration": 12.544145,
   "end_time": "2022-08-29T13:23:03.136080",
   "environment_variables": {},
   "exception": null,
   "input_path": "__notebook__.ipynb",
   "output_path": "__notebook__.ipynb",
   "parameters": {},
   "start_time": "2022-08-29T13:22:50.591935",
   "version": "2.3.4"
  }
 },
 "nbformat": 4,
 "nbformat_minor": 5
}
